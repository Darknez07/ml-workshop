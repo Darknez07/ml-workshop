{
 "cells": [
  {
   "cell_type": "markdown",
   "metadata": {},
   "source": [
    "# Data cleaning"
   ]
  },
  {
   "cell_type": "markdown",
   "metadata": {},
   "source": [
    "## Columns explanation\n",
    "Status: Developed or Developing status  \n",
    "Life expectancy: Life Expectancy in age  \n",
    "Adult Mortality: Adult Mortality Rates of both sexes (probability of dying between 15 and 60 years per 1000 population)  \n",
    "infant deaths: Number of Infant Deaths per 1000 population  \n",
    "Alcohol: Alcohol, recorded per capita (15+) consumption (in litres of pure alcohol)  \n",
    "percentage expenditure: Expenditure on health as a percentage of Gross Domestic Product per capita(%)  \n",
    "Hepatitis B: Hepatitis B (HepB) immunization coverage among 1-year-olds (%)  \n",
    "Measles: Measles - number of reported cases per 1000 population  \n",
    "BMI: Average Body Mass Index of entire population  \n",
    "under-five deaths: Number of under-five deaths per 1000 population  \n",
    "Polio: Polio (Pol3) immunization coverage among 1-year-olds (%)  \n",
    "Total expenditure: General government expenditure on health as a percentage of total government expenditure (%)  \n",
    "Diphtheria: Diphtheria tetanus toxoid and pertussis (DTP3) immunization coverage among 1-year-olds (%)  \n",
    "HIV/AIDS: Deaths per 1 000 live births HIV/AIDS (0-4 years)  \n",
    "GDP: Gross Domestic Product per capita (in USD)  \n",
    "Population: Population of the country  \n",
    "thinness 1-19 years: Prevalence of thinness among children and adolescents for Age 10 to 19 (% )  \n",
    "thinness 5-9 years: Prevalence of thinness among children for Age 5 to 9(%)  \n",
    "Income composition of resources: Human Development Index in terms of income composition of resources (index ranging from 0 to 1)  \n",
    "Schooling: Number of years of Schooling(years)  "
   ]
  },
  {
   "cell_type": "markdown",
   "metadata": {},
   "source": [
    "## Import and load csv"
   ]
  },
  {
   "cell_type": "code",
   "execution_count": 1,
   "metadata": {},
   "outputs": [],
   "source": [
    "import pandas as pd\n",
    "import matplotlib.pyplot as plt\n",
    "from sklearn.preprocessing import normalize\n",
    "from numpy.random import exponential\n",
    "import random\n",
    "import scipy.stats as stats\n",
    "import math\n",
    "import numpy as np\n",
    "from sklearn import preprocessing\n",
    "import pickle"
   ]
  },
  {
   "cell_type": "markdown",
   "metadata": {},
   "source": [
    "## Load csv"
   ]
  },
  {
   "cell_type": "code",
   "execution_count": 2,
   "metadata": {},
   "outputs": [],
   "source": [
    "df = pd.read_csv('Life Expectancy Data.csv')"
   ]
  },
  {
   "cell_type": "markdown",
   "metadata": {},
   "source": [
    "## Show columns and remove spaces in names"
   ]
  },
  {
   "cell_type": "code",
   "execution_count": 3,
   "metadata": {
    "scrolled": false
   },
   "outputs": [
    {
     "data": {
      "text/plain": [
       "Index(['Country', 'Year', 'Status', 'Life expectancy ', 'Adult Mortality',\n",
       "       'infant deaths', 'Alcohol', 'percentage expenditure', 'Hepatitis B',\n",
       "       'Measles ', ' BMI ', 'under-five deaths ', 'Polio', 'Total expenditure',\n",
       "       'Diphtheria ', ' HIV/AIDS', 'GDP', 'Population',\n",
       "       ' thinness  1-19 years', ' thinness 5-9 years',\n",
       "       'Income composition of resources', 'Schooling'],\n",
       "      dtype='object')"
      ]
     },
     "execution_count": 3,
     "metadata": {},
     "output_type": "execute_result"
    }
   ],
   "source": [
    "df.columns"
   ]
  },
  {
   "cell_type": "code",
   "execution_count": 4,
   "metadata": {},
   "outputs": [
    {
     "data": {
      "text/plain": [
       "Index(['Country', 'Year', 'Status', 'Life expectancy', 'Adult Mortality',\n",
       "       'infant deaths', 'Alcohol', 'percentage expenditure', 'Hepatitis B',\n",
       "       'Measles', 'BMI', 'under-five deaths', 'Polio', 'Total expenditure',\n",
       "       'Diphtheria', 'HIV/AIDS', 'GDP', 'Population', 'thinness  1-19 years',\n",
       "       'thinness 5-9 years', 'Income composition of resources', 'Schooling'],\n",
       "      dtype='object')"
      ]
     },
     "execution_count": 4,
     "metadata": {},
     "output_type": "execute_result"
    }
   ],
   "source": [
    "# Rename columns to remove spaces\n",
    "for col in df.columns:\n",
    "    df.rename(columns={col: col.strip()}, inplace=True)\n",
    "df.columns"
   ]
  },
  {
   "cell_type": "code",
   "execution_count": 5,
   "metadata": {},
   "outputs": [
    {
     "data": {
      "text/plain": [
       "Index(['Country', 'Year', 'Life expectancy', 'Adult Mortality',\n",
       "       'infant deaths', 'Alcohol', 'percentage expenditure', 'Hepatitis B',\n",
       "       'Measles', 'BMI', 'under-five deaths', 'Polio', 'Total expenditure',\n",
       "       'Diphtheria', 'HIV/AIDS', 'GDP', 'Population', 'thinness  1-19 years',\n",
       "       'thinness 5-9 years', 'Income composition of resources', 'Schooling'],\n",
       "      dtype='object')"
      ]
     },
     "execution_count": 5,
     "metadata": {},
     "output_type": "execute_result"
    }
   ],
   "source": [
    "# Drop status columns, wont we used\n",
    "df.drop(columns=['Status'], inplace=True)\n",
    "df.columns"
   ]
  },
  {
   "cell_type": "markdown",
   "metadata": {},
   "source": [
    "Show the first rows of the dataframe"
   ]
  },
  {
   "cell_type": "markdown",
   "metadata": {},
   "source": [
    "## NAs values with distributions\n",
    "Fill NAs values in the dataframe where the columns have different probability distributions.  \n",
    "\n",
    "General idea:  \n",
    "1. Show histogram of the column.\n",
    "2. See if the shown histogram has the shape of a known distribution such as normal, exponential, truncated normal, etc.\n",
    "3. If the histogram has the shape of a distribution, then simulate that distribution and fill na's in that column selecting randomly a value.  \n",
    "4. Show histogram of the column and the simulated distribution, to see if the selection makes sense."
   ]
  },
  {
   "cell_type": "code",
   "execution_count": 6,
   "metadata": {
    "scrolled": true
   },
   "outputs": [
    {
     "name": "stdout",
     "output_type": "stream",
     "text": [
      "(2938, 21)\n"
     ]
    },
    {
     "data": {
      "text/plain": [
       "Country                              0\n",
       "Year                                 0\n",
       "Life expectancy                     10\n",
       "Adult Mortality                     10\n",
       "infant deaths                        0\n",
       "Alcohol                            194\n",
       "percentage expenditure               0\n",
       "Hepatitis B                        553\n",
       "Measles                              0\n",
       "BMI                                 34\n",
       "under-five deaths                    0\n",
       "Polio                               19\n",
       "Total expenditure                  226\n",
       "Diphtheria                          19\n",
       "HIV/AIDS                             0\n",
       "GDP                                448\n",
       "Population                         652\n",
       "thinness  1-19 years                34\n",
       "thinness 5-9 years                  34\n",
       "Income composition of resources    167\n",
       "Schooling                          163\n",
       "dtype: int64"
      ]
     },
     "execution_count": 6,
     "metadata": {},
     "output_type": "execute_result"
    }
   ],
   "source": [
    "#see NAs values\n",
    "print(df.shape)\n",
    "df.isnull().sum()"
   ]
  },
  {
   "cell_type": "markdown",
   "metadata": {},
   "source": [
    "In case that the data contains missing values decisions need to be made. This can be by for example, removing those cases, filling with some default value or with the mean/average. "
   ]
  },
  {
   "cell_type": "code",
   "execution_count": 7,
   "metadata": {},
   "outputs": [],
   "source": [
    "def show_hist_of_arrays(original, simulated):\n",
    "    n_bins = 10\n",
    "    fig, axs = plt.subplots(1, 2, sharey=True, tight_layout=True)\n",
    "    axs[0].hist(original, bins=n_bins)\n",
    "    axs[0].set_title('original')\n",
    "    axs[1].hist(simulated, bins=n_bins)\n",
    "    axs[1].set_title('simulated')\n",
    "    plt.show()"
   ]
  },
  {
   "cell_type": "code",
   "execution_count": 8,
   "metadata": {},
   "outputs": [
    {
     "data": {
      "image/png": "[encoded data removed]",
      "text/plain": [
       "<Figure size 432x288 with 2 Axes>"
      ]
     },
     "metadata": {
      "needs_background": "light"
     },
     "output_type": "display_data"
    }
   ],
   "source": [
    "#plt.hist(df['Alcohol'])\n",
    "# Alcohol hist has truncated normal dist\n",
    "lower, upper = df['Alcohol'].min(), df['Alcohol'].max()\n",
    "mu, sigma = df['Alcohol'].mean(), df['Alcohol'].std()\n",
    "a = (lower - mu) / sigma\n",
    "s_n = np.random.normal(mu, sigma, df['Alcohol'].shape[0])\n",
    "X = stats.truncnorm(lower, np.inf, loc=mu, scale=sigma).rvs(len(df['Alcohol']))\n",
    "\n",
    "# fill alcohol with random values of X\n",
    "df.fillna({'Alcohol': random.choice(X)}, inplace=True)\n",
    "\n",
    "df.isnull().sum()\n",
    "show_hist_of_arrays(df['Alcohol'], X)\n"
   ]
  },
  {
   "cell_type": "code",
   "execution_count": 9,
   "metadata": {},
   "outputs": [
    {
     "data": {
      "image/png": "[encoded data removed]",
      "text/plain": [
       "<Figure size 432x288 with 2 Axes>"
      ]
     },
     "metadata": {
      "needs_background": "light"
     },
     "output_type": "display_data"
    }
   ],
   "source": [
    "# Total expenditure\n",
    "#plt.hist(df['Total expenditure'])\n",
    "# Total expenditure has normal dist\n",
    "mu, sigma = df['Total expenditure'].mean(), df['Total expenditure'].std() # mean and standard deviation\n",
    "s_n = np.random.normal(mu, sigma, df['Total expenditure'].shape[0])\n",
    "\n",
    "# Fill\n",
    "df.fillna({'Total expenditure': random.choice(s_n)}, inplace=True)\n",
    "\n",
    "df.isnull().sum()\n",
    "show_hist_of_arrays(df['Total expenditure'], s_n)"
   ]
  },
  {
   "cell_type": "code",
   "execution_count": 10,
   "metadata": {},
   "outputs": [
    {
     "data": {
      "image/png": "[encoded data removed]",
      "text/plain": [
       "<Figure size 432x288 with 2 Axes>"
      ]
     },
     "metadata": {
      "needs_background": "light"
     },
     "output_type": "display_data"
    }
   ],
   "source": [
    "#plt.hist(df['GDP'])\n",
    "\n",
    "# GDP has exponential dist\n",
    "exp_data = stats.expon.rvs(scale=df['GDP'].std(), size=df['GDP'].shape[0])\n",
    "\n",
    "# Fill \n",
    "df.fillna({'GDP': random.choice(exp_data)}, inplace=True)\n",
    "\n",
    "df.isnull().sum()\n",
    "\n",
    "show_hist_of_arrays(df['GDP'], exp_data)"
   ]
  },
  {
   "cell_type": "markdown",
   "metadata": {},
   "source": [
    "Show the different values for the variable COUNTRY"
   ]
  },
  {
   "cell_type": "code",
   "execution_count": 11,
   "metadata": {},
   "outputs": [
    {
     "data": {
      "image/png": "[encoded data removed]",
      "text/plain": [
       "<Figure size 432x288 with 2 Axes>"
      ]
     },
     "metadata": {
      "needs_background": "light"
     },
     "output_type": "display_data"
    },
    {
     "data": {
      "image/png": "[encoded data removed]",
      "text/plain": [
       "<Figure size 432x288 with 2 Axes>"
      ]
     },
     "metadata": {
      "needs_background": "light"
     },
     "output_type": "display_data"
    },
    {
     "data": {
      "text/plain": [
       "Country                              0\n",
       "Year                                 0\n",
       "Life expectancy                     10\n",
       "Adult Mortality                     10\n",
       "infant deaths                        0\n",
       "Alcohol                              0\n",
       "percentage expenditure               0\n",
       "Hepatitis B                        553\n",
       "Measles                              0\n",
       "BMI                                 34\n",
       "under-five deaths                    0\n",
       "Polio                               19\n",
       "Total expenditure                    0\n",
       "Diphtheria                          19\n",
       "HIV/AIDS                             0\n",
       "GDP                                  0\n",
       "Population                         652\n",
       "thinness  1-19 years                 0\n",
       "thinness 5-9 years                   0\n",
       "Income composition of resources    167\n",
       "Schooling                          163\n",
       "dtype: int64"
      ]
     },
     "execution_count": 11,
     "metadata": {},
     "output_type": "execute_result"
    }
   ],
   "source": [
    "# thinness  1-19 years and thinness 5-9 years have exponential\n",
    "#plt.hist(df['thinness  1-19 years'])\n",
    "#plt.hist(df['thinness 5-9 years'])\n",
    "\n",
    "# GDP has exponential dist\n",
    "for col in ['thinness  1-19 years', 'thinness 5-9 years']:\n",
    "    exp_data = stats.expon.rvs(scale=df[col].std(), size=df[col].shape[0])\n",
    "    # Fill \n",
    "    df.fillna({col: random.choice(exp_data)}, inplace=True)\n",
    "    # Show\n",
    "    show_hist_of_arrays(df[col], exp_data)\n",
    "\n",
    "df.isnull().sum()"
   ]
  },
  {
   "cell_type": "code",
   "execution_count": 12,
   "metadata": {},
   "outputs": [
    {
     "data": {
      "image/png": "[encoded data removed]",
      "text/plain": [
       "<Figure size 432x288 with 2 Axes>"
      ]
     },
     "metadata": {
      "needs_background": "light"
     },
     "output_type": "display_data"
    },
    {
     "data": {
      "text/plain": [
       "Country                              0\n",
       "Year                                 0\n",
       "Life expectancy                     10\n",
       "Adult Mortality                     10\n",
       "infant deaths                        0\n",
       "Alcohol                              0\n",
       "percentage expenditure               0\n",
       "Hepatitis B                        553\n",
       "Measles                              0\n",
       "BMI                                 34\n",
       "under-five deaths                    0\n",
       "Polio                               19\n",
       "Total expenditure                    0\n",
       "Diphtheria                          19\n",
       "HIV/AIDS                             0\n",
       "GDP                                  0\n",
       "Population                         652\n",
       "thinness  1-19 years                 0\n",
       "thinness 5-9 years                   0\n",
       "Income composition of resources    167\n",
       "Schooling                            0\n",
       "dtype: int64"
      ]
     },
     "execution_count": 12,
     "metadata": {},
     "output_type": "execute_result"
    }
   ],
   "source": [
    "#plt.hist(df['Schooling'])\n",
    "\n",
    "# Total expenditure has normal dist\n",
    "mu, sigma = df['Schooling'].mean(), df['Schooling'].std() # mean and standard deviation\n",
    "s_n = np.random.normal(mu, sigma, df['Schooling'].shape[0])\n",
    "\n",
    "# Fill \n",
    "df.fillna({'Schooling': random.choice(exp_data)}, inplace=True)\n",
    "\n",
    "show_hist_of_arrays(df['Schooling'], s_n)\n",
    "\n",
    "df.isnull().sum()\n"
   ]
  },
  {
   "cell_type": "code",
   "execution_count": 13,
   "metadata": {},
   "outputs": [
    {
     "data": {
      "image/png": "[encoded data removed]",
      "text/plain": [
       "<Figure size 432x288 with 2 Axes>"
      ]
     },
     "metadata": {
      "needs_background": "light"
     },
     "output_type": "display_data"
    }
   ],
   "source": [
    "#plt.hist(df['Population'])\n",
    "exp_data = stats.expon.rvs(scale=df['Population'].std(), size=df['Population'].shape[0])\n",
    "df.fillna({'Population': random.choice(exp_data)}, inplace=True)\n",
    "df.isnull().sum()\n",
    "show_hist_of_arrays(df['Population'], exp_data)\n"
   ]
  },
  {
   "cell_type": "markdown",
   "metadata": {},
   "source": [
    "# NAs values without distribution"
   ]
  },
  {
   "cell_type": "code",
   "execution_count": 14,
   "metadata": {},
   "outputs": [
    {
     "name": "stdout",
     "output_type": "stream",
     "text": [
      "(2928, 21)\n"
     ]
    },
    {
     "data": {
      "text/plain": [
       "Country                              0\n",
       "Year                                 0\n",
       "Life expectancy                      0\n",
       "Adult Mortality                      0\n",
       "infant deaths                        0\n",
       "Alcohol                              0\n",
       "percentage expenditure               0\n",
       "Hepatitis B                        553\n",
       "Measles                              0\n",
       "BMI                                 32\n",
       "under-five deaths                    0\n",
       "Polio                               19\n",
       "Total expenditure                    0\n",
       "Diphtheria                          19\n",
       "HIV/AIDS                             0\n",
       "GDP                                  0\n",
       "Population                           0\n",
       "thinness  1-19 years                 0\n",
       "thinness 5-9 years                   0\n",
       "Income composition of resources    160\n",
       "Schooling                            0\n",
       "dtype: int64"
      ]
     },
     "execution_count": 14,
     "metadata": {},
     "output_type": "execute_result"
    }
   ],
   "source": [
    "#Remove rows with Life expectancy or Adult Mortality with nulls because they are only 10 from 2938\n",
    "df.dropna(subset=['Life expectancy', 'Adult Mortality',], inplace=True)\n",
    "print(df.shape)\n",
    "df.isnull().sum()"
   ]
  },
  {
   "cell_type": "code",
   "execution_count": 15,
   "metadata": {},
   "outputs": [],
   "source": [
    "def get_random_range(ranges_list, probs):\n",
    "    return random.choices(\n",
    "        population=ranges_list,\n",
    "        weights=probs\n",
    "    )[0]\n",
    "\n",
    "\n",
    "def fill_nas_with_random_range(df, col, ranges_list, probs):\n",
    "    for i, _ in df.iterrows():\n",
    "        value = df.loc[i, col]\n",
    "        if value is None or np.isnan(value):\n",
    "            random_range = get_random_range(ranges_list, probs)\n",
    "            df.loc[i, col] = random.choice(random_range)\n",
    "    return df"
   ]
  },
  {
   "cell_type": "code",
   "execution_count": null,
   "metadata": {},
   "outputs": [],
   "source": [
    "# See hist\n",
    "plt.hist(df['Hepatitis B'])\n",
    "\n",
    "# Simulate ranges\n",
    "ranges_list = [\n",
    "    range(1,10),\n",
    "    range(10, 60),\n",
    "    range(60, 70),\n",
    "    range(80, 90),\n",
    "    range(90, 100)\n",
    "]\n",
    "probs = [0.1, 0.05, 0.1, 0.2, 0.55]\n",
    "\n",
    "df = fill_nas_with_random_range(df, 'Hepatitis B', ranges_list, probs)    \n",
    "df.isnull().sum()"
   ]
  },
  {
   "cell_type": "code",
   "execution_count": null,
   "metadata": {},
   "outputs": [],
   "source": [
    "plt.hist(df['BMI'])\n",
    "\n",
    "df['BMI'].fillna(df['BMI'].mean(), inplace=True)\n",
    "\n",
    "df.isnull().sum()"
   ]
  },
  {
   "cell_type": "code",
   "execution_count": null,
   "metadata": {},
   "outputs": [],
   "source": [
    "plt.hist(df['Polio'])\n",
    "\n",
    "# Simulate ranges\n",
    "ranges_list = [\n",
    "    range(1,10),\n",
    "    range(10, 40),\n",
    "    range(40, 60),\n",
    "    range(60, 70),\n",
    "    range(70, 80),\n",
    "    range(80, 90),\n",
    "    range(90, 100)\n",
    "]\n",
    "probs = [0.05, 0.02, 0.03, 0.05, 0.1, 0.2, 0.55]\n",
    "\n",
    "df = fill_nas_with_random_range(df, 'Polio', ranges_list, probs)    \n",
    "df.isnull().sum()"
   ]
  },
  {
   "cell_type": "code",
   "execution_count": null,
   "metadata": {},
   "outputs": [],
   "source": [
    "plt.hist(df['Diphtheria'])\n",
    "\n",
    "# Simulate ranges\n",
    "ranges_list = [\n",
    "    range(1,10),\n",
    "    range(10, 40),\n",
    "    range(40, 60),\n",
    "    range(60, 70),\n",
    "    range(70, 80),\n",
    "    range(80, 90),\n",
    "    range(90, 100)\n",
    "]\n",
    "probs = [0.05, 0.02, 0.03, 0.05, 0.1, 0.2, 0.55]\n",
    "\n",
    "df = fill_nas_with_random_range(df, 'Diphtheria', ranges_list, probs)    \n",
    "df.isnull().sum()"
   ]
  },
  {
   "cell_type": "code",
   "execution_count": null,
   "metadata": {},
   "outputs": [],
   "source": [
    "plt.hist(df['Income composition of resources'])\n",
    "\n",
    "df['Income composition of resources'].fillna(df['Income composition of resources'].mean(), inplace=True)\n",
    "\n",
    "df.isnull().sum()"
   ]
  },
  {
   "cell_type": "markdown",
   "metadata": {},
   "source": [
    "# Transform data"
   ]
  },
  {
   "cell_type": "markdown",
   "metadata": {},
   "source": [
    "## Hot-encoding for countries"
   ]
  },
  {
   "cell_type": "code",
   "execution_count": null,
   "metadata": {},
   "outputs": [],
   "source": [
    "df = pd.get_dummies(df, prefix='', prefix_sep='', columns=['Country'])\n",
    "\n",
    "df.head()"
   ]
  },
  {
   "cell_type": "markdown",
   "metadata": {},
   "source": [
    "# Scale the data and store\n",
    "Scale the data by using MinMaxScaler from sklearn. "
   ]
  },
  {
   "cell_type": "code",
   "execution_count": null,
   "metadata": {},
   "outputs": [],
   "source": [
    "df.to_csv('cleaned_csv', index=False)\n",
    "\n",
    "minmaxscaler = preprocessing.MinMaxScaler()\n",
    "\n",
    "cleaned_scaled_data = minmaxscaler.fit_transform(df)\n",
    "\n",
    "with open('cleaned_scaled_data.pkl', 'wb') as output:\n",
    "    pickle.dump(cleaned_scaled_data, output)\n"
   ]
  },
  {
   "cell_type": "code",
   "execution_count": null,
   "metadata": {},
   "outputs": [],
   "source": [
    "cleaned_scaled_data"
   ]
  },
  {
   "cell_type": "markdown",
   "metadata": {},
   "source": [
    "# Save result\n",
    "Now, save the cleaned data and the normalized data. "
   ]
  },
  {
   "cell_type": "code",
   "execution_count": null,
   "metadata": {},
   "outputs": [],
   "source": [
    "df.to_csv('cleaned_csv.csv', index=False)"
   ]
  }
 ],
 "metadata": {
  "hide_input": true,
  "kernelspec": {
   "display_name": "Python 3",
   "language": "python",
   "name": "python3"
  },
  "language_info": {
   "codemirror_mode": {
    "name": "ipython",
    "version": 3
   },
   "file_extension": ".py",
   "mimetype": "text/x-python",
   "name": "python",
   "nbconvert_exporter": "python",
   "pygments_lexer": "ipython3",
   "version": "3.7.5"
  },
  "toc": {
   "base_numbering": 1,
   "nav_menu": {},
   "number_sections": true,
   "sideBar": true,
   "skip_h1_title": false,
   "title_cell": "Table of Contents",
   "title_sidebar": "Contents",
   "toc_cell": false,
   "toc_position": {},
   "toc_section_display": true,
   "toc_window_display": true
  }
 },
 "nbformat": 4,
 "nbformat_minor": 2
}
