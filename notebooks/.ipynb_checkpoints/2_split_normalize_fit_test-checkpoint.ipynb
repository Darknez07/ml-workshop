{
 "cells": [
  {
   "cell_type": "markdown",
   "metadata": {},
   "source": [
    "# Split and normalize the dataset to fit and test"
   ]
  },
  {
   "cell_type": "code",
   "execution_count": 1,
   "metadata": {},
   "outputs": [],
   "source": [
    "import pandas as pd\n",
    "from sklearn import preprocessing, linear_model\n",
    "from sklearn.model_selection import train_test_split\n",
    "import math\n",
    "from sklearn.metrics import mean_squared_error\n",
    "from sklearn.linear_model import Lasso\n",
    "from sklearn.linear_model import Ridge\n",
    "from sklearn.ensemble import RandomForestRegressor\n"
   ]
  },
  {
   "cell_type": "code",
   "execution_count": 2,
   "metadata": {},
   "outputs": [
    {
     "data": {
      "text/plain": [
       "Index(['Year', 'Life expectancy', 'Adult Mortality', 'infant deaths',\n",
       "       'Alcohol', 'percentage expenditure', 'Hepatitis B', 'Measles', 'BMI',\n",
       "       'under-five deaths',\n",
       "       ...\n",
       "       'United Republic of Tanzania', 'United States of America', 'Uruguay',\n",
       "       'Uzbekistan', 'Vanuatu', 'Venezuela (Bolivarian Republic of)',\n",
       "       'Viet Nam', 'Yemen', 'Zambia', 'Zimbabwe'],\n",
       "      dtype='object', length=203)"
      ]
     },
     "execution_count": 2,
     "metadata": {},
     "output_type": "execute_result"
    }
   ],
   "source": [
    "df = pd.read_csv('cleaned_csv.csv')\n",
    "\n",
    "df.columns"
   ]
  },
  {
   "cell_type": "markdown",
   "metadata": {},
   "source": [
    "## Split the dataset\n",
    "The target column is 'Life expectancy'."
   ]
  },
  {
   "cell_type": "code",
   "execution_count": 3,
   "metadata": {},
   "outputs": [],
   "source": [
    "X = df.drop(['Life expectancy'], axis=1)\n",
    "Y = df['Life expectancy']\n",
    "X_train , X_test , Y_train , Y_test = train_test_split(X,Y, test_size = 0.2 , random_state = 1)"
   ]
  },
  {
   "cell_type": "markdown",
   "metadata": {},
   "source": [
    "## Scale the dataset"
   ]
  },
  {
   "cell_type": "code",
   "execution_count": 4,
   "metadata": {},
   "outputs": [],
   "source": [
    "y_scaler = preprocessing.MinMaxScaler()\n",
    "x_scaler = preprocessing.MinMaxScaler()\n",
    "X_train_scaled = x_scaler.fit_transform(X_train.values)\n",
    "y_train_scaled = y_scaler.fit_transform(Y_train.values.reshape(-1, 1))\n",
    "X_test_scaled = x_scaler.fit_transform(X_test.values)\n",
    "y_test_scaled = y_scaler.fit_transform(Y_test.values.reshape(-1, 1))"
   ]
  },
  {
   "cell_type": "markdown",
   "metadata": {},
   "source": [
    "## Models"
   ]
  },
  {
   "cell_type": "markdown",
   "metadata": {},
   "source": [
    "### Lasso Regression"
   ]
  },
  {
   "cell_type": "code",
   "execution_count": 5,
   "metadata": {},
   "outputs": [],
   "source": [
    "lasso_r = Lasso(alpha=0.01)\n",
    "lasso_r.fit(X_train_scaled, y_train_scaled)\n",
    "predictions = lasso_r.predict(X_test_scaled)"
   ]
  },
  {
   "cell_type": "code",
   "execution_count": 6,
   "metadata": {},
   "outputs": [
    {
     "name": "stdout",
     "output_type": "stream",
     "text": [
      "R2-squared: 0.5700543748521967\n",
      "mean squared error: 0.015230772567421504\n",
      "root squared mean squared error: 0.12341301619935194\n"
     ]
    }
   ],
   "source": [
    "print('R2-squared:', lasso_r.score(X_test_scaled, y_test_scaled))\n",
    "print('mean squared error:', mean_squared_error(y_test_scaled, predictions))\n",
    "print('root squared mean squared error:', math.sqrt(mean_squared_error(y_test_scaled, predictions)))"
   ]
  },
  {
   "cell_type": "markdown",
   "metadata": {},
   "source": [
    "### Ridge Regression"
   ]
  },
  {
   "cell_type": "code",
   "execution_count": 7,
   "metadata": {},
   "outputs": [],
   "source": [
    "ridge_r = Ridge(alpha=0.01, random_state=938)\n",
    "ridge_r.fit(X_train_scaled, y_train_scaled)\n",
    "predictions = ridge_r.predict(X_test_scaled)"
   ]
  },
  {
   "cell_type": "code",
   "execution_count": 8,
   "metadata": {},
   "outputs": [
    {
     "name": "stdout",
     "output_type": "stream",
     "text": [
      "R2-squared: 0.9479431398825882\n",
      "mean squared error: 0.0018441080700607384\n",
      "root squared mean squared error: 0.0429430794198639\n"
     ]
    }
   ],
   "source": [
    "print('R2-squared:', ridge_r.score(X_test_scaled, y_test_scaled))\n",
    "print('mean squared error:', mean_squared_error(y_test_scaled, predictions))\n",
    "print('root squared mean squared error:', math.sqrt(mean_squared_error(y_test_scaled, predictions)))"
   ]
  },
  {
   "cell_type": "markdown",
   "metadata": {},
   "source": [
    "### Random Forest"
   ]
  },
  {
   "cell_type": "code",
   "execution_count": 9,
   "metadata": {},
   "outputs": [
    {
     "name": "stderr",
     "output_type": "stream",
     "text": [
      "/Users/brunomichetti/work/ml-workshop/env-ml/lib/python3.7/site-packages/ipykernel_launcher.py:2: DataConversionWarning: A column-vector y was passed when a 1d array was expected. Please change the shape of y to (n_samples,), for example using ravel().\n",
      "  \n"
     ]
    }
   ],
   "source": [
    "rf_model = RandomForestRegressor(n_estimators = 10, random_state = 123)\n",
    "rf_model = rf_model.fit(X_train_scaled, y_train_scaled)\n",
    "predictions = rf_model.predict(X_test_scaled)"
   ]
  },
  {
   "cell_type": "code",
   "execution_count": 10,
   "metadata": {},
   "outputs": [
    {
     "name": "stdout",
     "output_type": "stream",
     "text": [
      "R2-squared: 0.9451047492199081\n",
      "mean squared error: 0.0019446577212542152\n",
      "root squared mean squared error: 0.044098273449809974\n"
     ]
    }
   ],
   "source": [
    "print('R2-squared:', rf_model.score(X_test_scaled, y_test_scaled))\n",
    "print('mean squared error:', mean_squared_error(y_test_scaled, predictions))\n",
    "print('root squared mean squared error:', math.sqrt(mean_squared_error(y_test_scaled, predictions)))"
   ]
  },
  {
   "cell_type": "code",
   "execution_count": null,
   "metadata": {},
   "outputs": [],
   "source": []
  }
 ],
 "metadata": {
  "kernelspec": {
   "display_name": "Python 3",
   "language": "python",
   "name": "python3"
  },
  "language_info": {
   "codemirror_mode": {
    "name": "ipython",
    "version": 3
   },
   "file_extension": ".py",
   "mimetype": "text/x-python",
   "name": "python",
   "nbconvert_exporter": "python",
   "pygments_lexer": "ipython3",
   "version": "3.7.5"
  }
 },
 "nbformat": 4,
 "nbformat_minor": 4
}
